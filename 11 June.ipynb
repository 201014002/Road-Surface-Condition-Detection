{
 "cells": [
  {
   "cell_type": "code",
   "execution_count": 9,
   "id": "0f79c453",
   "metadata": {},
   "outputs": [],
   "source": [
    "import pandas as pd\n",
    "import numpy as np\n",
    "from sklearn.preprocessing import MinMaxScaler"
   ]
  },
  {
   "cell_type": "code",
   "execution_count": 10,
   "id": "ca896218",
   "metadata": {},
   "outputs": [
    {
     "name": "stdout",
     "output_type": "stream",
     "text": [
      "           time  seconds_elapsed        y          z        x  longitude  \\\n",
      "0  1.720000e+18         0.111076  4.97125  24.828749  4.59750   90.35935   \n",
      "1  1.720000e+18         0.121330  1.83750  13.594999  2.26625   90.35935   \n",
      "2  1.720000e+18         0.131584  1.03500  13.862499  1.08125   90.35935   \n",
      "3  1.720000e+18         0.141837  0.69125  13.365000  0.20250   90.35935   \n",
      "4  1.720000e+18         0.152091  0.50000  12.486250 -0.48500   90.35935   \n",
      "\n",
      "   latitude  \n",
      "0  23.72847  \n",
      "1  23.72847  \n",
      "2  23.72847  \n",
      "3  23.72847  \n",
      "4  23.72847  \n",
      "<class 'pandas.core.frame.DataFrame'>\n",
      "RangeIndex: 32465 entries, 0 to 32464\n",
      "Data columns (total 7 columns):\n",
      " #   Column           Non-Null Count  Dtype  \n",
      "---  ------           --------------  -----  \n",
      " 0   time             32465 non-null  float64\n",
      " 1   seconds_elapsed  32465 non-null  float64\n",
      " 2   y                32465 non-null  float64\n",
      " 3   z                32465 non-null  float64\n",
      " 4   x                32465 non-null  float64\n",
      " 5   longitude        32465 non-null  float64\n",
      " 6   latitude         32465 non-null  float64\n",
      "dtypes: float64(7)\n",
      "memory usage: 1.7 MB\n",
      "None\n"
     ]
    }
   ],
   "source": [
    "# Load the data\n",
    "df = pd.read_csv('I:\\CSE 499 Data Preprocess\\Total_Acceleration_32466.csv')\n",
    "\n",
    "# Display the first few rows of the dataframe\n",
    "print(df.head())\n",
    "print(df.info())"
   ]
  },
  {
   "cell_type": "code",
   "execution_count": 11,
   "id": "def5d962",
   "metadata": {},
   "outputs": [
    {
     "data": {
      "text/plain": [
       "time               0\n",
       "seconds_elapsed    0\n",
       "y                  0\n",
       "z                  0\n",
       "x                  0\n",
       "longitude          0\n",
       "latitude           0\n",
       "dtype: int64"
      ]
     },
     "execution_count": 11,
     "metadata": {},
     "output_type": "execute_result"
    }
   ],
   "source": [
    "# Check for missing values in the dataset\n",
    "df.isnull().sum()"
   ]
  },
  {
   "cell_type": "code",
   "execution_count": 14,
   "id": "7bc95412",
   "metadata": {},
   "outputs": [
    {
     "data": {
      "text/html": [
       "<div>\n",
       "<style scoped>\n",
       "    .dataframe tbody tr th:only-of-type {\n",
       "        vertical-align: middle;\n",
       "    }\n",
       "\n",
       "    .dataframe tbody tr th {\n",
       "        vertical-align: top;\n",
       "    }\n",
       "\n",
       "    .dataframe thead th {\n",
       "        text-align: right;\n",
       "    }\n",
       "</style>\n",
       "<table border=\"1\" class=\"dataframe\">\n",
       "  <thead>\n",
       "    <tr style=\"text-align: right;\">\n",
       "      <th></th>\n",
       "      <th>x</th>\n",
       "      <th>y</th>\n",
       "      <th>z</th>\n",
       "    </tr>\n",
       "  </thead>\n",
       "  <tbody>\n",
       "    <tr>\n",
       "      <th>0</th>\n",
       "      <td>0.885507</td>\n",
       "      <td>0.891706</td>\n",
       "      <td>1.000000</td>\n",
       "    </tr>\n",
       "    <tr>\n",
       "      <th>1</th>\n",
       "      <td>0.673671</td>\n",
       "      <td>0.658062</td>\n",
       "      <td>0.523514</td>\n",
       "    </tr>\n",
       "    <tr>\n",
       "      <th>2</th>\n",
       "      <td>0.565993</td>\n",
       "      <td>0.598229</td>\n",
       "      <td>0.534860</td>\n",
       "    </tr>\n",
       "    <tr>\n",
       "      <th>3</th>\n",
       "      <td>0.486143</td>\n",
       "      <td>0.572600</td>\n",
       "      <td>0.513759</td>\n",
       "    </tr>\n",
       "    <tr>\n",
       "      <th>4</th>\n",
       "      <td>0.423671</td>\n",
       "      <td>0.558341</td>\n",
       "      <td>0.476486</td>\n",
       "    </tr>\n",
       "  </tbody>\n",
       "</table>\n",
       "</div>"
      ],
      "text/plain": [
       "          x         y         z\n",
       "0  0.885507  0.891706  1.000000\n",
       "1  0.673671  0.658062  0.523514\n",
       "2  0.565993  0.598229  0.534860\n",
       "3  0.486143  0.572600  0.513759\n",
       "4  0.423671  0.558341  0.476486"
      ]
     },
     "execution_count": 14,
     "metadata": {},
     "output_type": "execute_result"
    }
   ],
   "source": [
    "# Initialize the MinMaxScaler\n",
    "df[['x', 'y', 'z']] = MinMaxScaler().fit_transform(df[['x', 'y', 'z']])\n",
    "\n",
    "# Display the normalized data\n",
    "df[['x', 'y', 'z']].head()"
   ]
  },
  {
   "cell_type": "code",
   "execution_count": 15,
   "id": "c66aecca",
   "metadata": {},
   "outputs": [
    {
     "data": {
      "text/html": [
       "<div>\n",
       "<style scoped>\n",
       "    .dataframe tbody tr th:only-of-type {\n",
       "        vertical-align: middle;\n",
       "    }\n",
       "\n",
       "    .dataframe tbody tr th {\n",
       "        vertical-align: top;\n",
       "    }\n",
       "\n",
       "    .dataframe thead th {\n",
       "        text-align: right;\n",
       "    }\n",
       "</style>\n",
       "<table border=\"1\" class=\"dataframe\">\n",
       "  <thead>\n",
       "    <tr style=\"text-align: right;\">\n",
       "      <th></th>\n",
       "      <th>mean_x</th>\n",
       "      <th>std_x</th>\n",
       "      <th>range_x</th>\n",
       "      <th>mean_y</th>\n",
       "      <th>std_y</th>\n",
       "      <th>range_y</th>\n",
       "      <th>mean_z</th>\n",
       "      <th>std_z</th>\n",
       "      <th>range_z</th>\n",
       "    </tr>\n",
       "  </thead>\n",
       "  <tbody>\n",
       "    <tr>\n",
       "      <th>0</th>\n",
       "      <td>0.489785</td>\n",
       "      <td>0.095712</td>\n",
       "      <td>1.0</td>\n",
       "      <td>0.592144</td>\n",
       "      <td>0.103479</td>\n",
       "      <td>1.0</td>\n",
       "      <td>0.37053</td>\n",
       "      <td>0.088675</td>\n",
       "      <td>1.0</td>\n",
       "    </tr>\n",
       "  </tbody>\n",
       "</table>\n",
       "</div>"
      ],
      "text/plain": [
       "     mean_x     std_x  range_x    mean_y     std_y  range_y   mean_z  \\\n",
       "0  0.489785  0.095712      1.0  0.592144  0.103479      1.0  0.37053   \n",
       "\n",
       "      std_z  range_z  \n",
       "0  0.088675      1.0  "
      ]
     },
     "execution_count": 15,
     "metadata": {},
     "output_type": "execute_result"
    }
   ],
   "source": [
    "# Calculate statistical features for each axis(mean,standard deviation,range)\n",
    "df['mean_x'] = df['x'].mean() \n",
    "df['std_x'] = df['x'].std()\n",
    "df['range_x'] = df['x'].max() - df['x'].min()\n",
    "\n",
    "df['mean_y'] = df['y'].mean()\n",
    "df['std_y'] = df['y'].std()\n",
    "df['range_y'] = df['y'].max() - df['y'].min()\n",
    "\n",
    "df['mean_z'] = df['z'].mean()\n",
    "df['std_z'] = df['z'].std()\n",
    "df['range_z'] = df['z'].max() - df['z'].min()\n",
    "\n",
    "# Display the extracted features\n",
    "df[['mean_x', 'std_x', 'range_x', 'mean_y', 'std_y', 'range_y', 'mean_z', 'std_z', 'range_z']].head(1)"
   ]
  },
  {
   "cell_type": "code",
   "execution_count": 13,
   "id": "e961ab02",
   "metadata": {},
   "outputs": [
    {
     "name": "stdout",
     "output_type": "stream",
     "text": [
      "           time        x        y          z  longitude  latitude  \\\n",
      "0  1.720000e+18  4.59750  4.97125  24.828749   90.35935  23.72847   \n",
      "1  1.720000e+18  2.26625  1.83750  13.594999   90.35935  23.72847   \n",
      "2  1.720000e+18  1.08125  1.03500  13.862499   90.35935  23.72847   \n",
      "3  1.720000e+18  0.20250  0.69125  13.365000   90.35935  23.72847   \n",
      "4  1.720000e+18 -0.48500  0.50000  12.486250   90.35935  23.72847   \n",
      "\n",
      "  road_condition  \n",
      "0         normal  \n",
      "1         normal  \n",
      "2         normal  \n",
      "3         normal  \n",
      "4         normal  \n"
     ]
    }
   ],
   "source": [
    "# Define thresholds for road conditions based on acceleration measurements\n",
    "def label_road_condition(row):\n",
    "    if row['z'] < 10:\n",
    "        return 'bump'\n",
    "    elif 0.8< row['z'] <3:\n",
    "        return 'crack'\n",
    "    elif row['x'] <-1.5:\n",
    "        return 'pothole'\n",
    "    else:\n",
    "        return 'normal'\n",
    "\n",
    "# Apply the labeling function\n",
    "df['road_condition'] = df.apply(label_road_condition, axis=1)\n",
    "print(df[['time', 'x', 'y', 'z','longitude','latitude', 'road_condition']].head())"
   ]
  },
  {
   "cell_type": "code",
   "execution_count": null,
   "id": "91409b52",
   "metadata": {},
   "outputs": [],
   "source": []
  }
 ],
 "metadata": {
  "kernelspec": {
   "display_name": "Python 3 (ipykernel)",
   "language": "python",
   "name": "python3"
  },
  "language_info": {
   "codemirror_mode": {
    "name": "ipython",
    "version": 3
   },
   "file_extension": ".py",
   "mimetype": "text/x-python",
   "name": "python",
   "nbconvert_exporter": "python",
   "pygments_lexer": "ipython3",
   "version": "3.11.5"
  }
 },
 "nbformat": 4,
 "nbformat_minor": 5
}
